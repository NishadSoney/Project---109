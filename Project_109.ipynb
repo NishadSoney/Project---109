{
  "nbformat": 4,
  "nbformat_minor": 0,
  "metadata": {
    "colab": {
      "name": "Project - 109",
      "provenance": [],
      "collapsed_sections": [],
      "authorship_tag": "ABX9TyPnPxRLP3Ew1+ZoNVJhYfHm",
      "include_colab_link": true
    },
    "kernelspec": {
      "name": "python3",
      "display_name": "Python 3"
    },
    "language_info": {
      "name": "python"
    }
  },
  "cells": [
    {
      "cell_type": "markdown",
      "metadata": {
        "id": "view-in-github",
        "colab_type": "text"
      },
      "source": [
        "<a href=\"https://colab.research.google.com/github/NishadSoney/Project---109/blob/master/Project_109.ipynb\" target=\"_parent\"><img src=\"https://colab.research.google.com/assets/colab-badge.svg\" alt=\"Open In Colab\"/></a>"
      ]
    },
    {
      "cell_type": "code",
      "metadata": {
        "colab": {
          "base_uri": "https://localhost:8080/"
        },
        "id": "kQ6okireTrSl",
        "outputId": "c729f17e-f19e-4e24-bb61-bb6d9bc83f09"
      },
      "source": [
        "import csv\n",
        "import statistics\n",
        "import pandas as pd\n",
        "import math\n",
        "\n",
        "data = pd.read_csv(\"StudentsPerformance.csv\")\n",
        "df = data[\"math score\"]\n",
        "print(math)\n",
        "\n",
        "mean = statistics.mean(df)\n",
        "median = statistics.median(df)\n",
        "mode = statistics.mode(df)\n",
        "std = statistics.stdev(df)\n",
        "\n",
        "print(\"Mean is \",mean)\n",
        "print(\"Median is \",median)\n",
        "print(\"Mode is \",mode)\n",
        "print(\"Standard Deviation is \",std)\n",
        "\n",
        "first_std_start,first_std_end = mean-std,mean+std\n",
        "second_std_start,second_std_end = mean-(2*std),mean+(2*std)\n",
        "third_std_start,third_std_end = mean-(3*std),mean+(3*std)\n",
        "\n",
        "new = []\n",
        "for i in df:\n",
        "    new.append(i)\n",
        "\n",
        "list_within_std1 = [result for result in new if result > first_std_start and result < first_std_end]\n",
        "list_within_std2 = [result for result in new if result > second_std_start and result < second_std_end]\n",
        "list_within_std3 = [result for result in new if result > third_std_start and result < third_std_end]\n",
        "\n",
        "print(\"{}% of data lies within 1 stddev\".format(len(list_within_std1)*100.0/len(new)))\n",
        "print(\"{}% of data lies within 2 stddev\".format(len(list_within_std2)*100.0/len(new)))\n",
        "print(\"{}% of data lies within 3 stddev\".format(len(list_within_std3)*100.0/len(new)))"
      ],
      "execution_count": null,
      "outputs": [
        {
          "output_type": "stream",
          "name": "stdout",
          "text": [
            "<module 'math' (built-in)>\n",
            "Mean is  66.089\n",
            "Median is  66.0\n",
            "Mode is  65\n",
            "Standard Deviation is  15.163080096009452\n",
            "69.6% of data lies within 1 stddev\n",
            "95.4% of data lies within 2 stddev\n",
            "99.6% of data lies within 3 stddev\n"
          ]
        }
      ]
    }
  ]
}